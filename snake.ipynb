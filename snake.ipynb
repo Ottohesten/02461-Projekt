{
 "cells": [
  {
   "cell_type": "code",
   "execution_count": 1,
   "metadata": {},
   "outputs": [
    {
     "name": "stdout",
     "output_type": "stream",
     "text": [
      "pygame 2.1.2 (SDL 2.0.18, Python 3.9.7)\n",
      "Hello from the pygame community. https://www.pygame.org/contribute.html\n"
     ]
    }
   ],
   "source": [
    "from SnakeGameClass import *\n",
    "import pygame\n",
    "from Agent import train"
   ]
  },
  {
   "cell_type": "code",
   "execution_count": 2,
   "metadata": {},
   "outputs": [
    {
     "name": "stdout",
     "output_type": "stream",
     "text": [
      "Game: 1\t Score: 0\t Record: 0\n",
      "Game: 2\t Score: 0\t Record: 0\n",
      "Game: 3\t Score: 0\t Record: 0\n",
      "Game: 4\t Score: 0\t Record: 0\n",
      "Game: 5\t Score: 0\t Record: 0\n",
      "Game: 6\t Score: 0\t Record: 0\n",
      "Game: 7\t Score: 0\t Record: 0\n",
      "Game: 8\t Score: 0\t Record: 0\n",
      "Game: 9\t Score: 0\t Record: 0\n",
      "Game: 10\t Score: 0\t Record: 0\n",
      "Game: 11\t Score: 0\t Record: 0\n",
      "Game: 12\t Score: 0\t Record: 0\n",
      "Game: 13\t Score: 0\t Record: 0\n",
      "Game: 14\t Score: 0\t Record: 0\n",
      "Game: 15\t Score: 0\t Record: 0\n",
      "Game: 16\t Score: 0\t Record: 0\n",
      "Game: 17\t Score: 0\t Record: 0\n",
      "Game: 18\t Score: 0\t Record: 0\n",
      "Game: 19\t Score: 0\t Record: 0\n",
      "Game: 20\t Score: 0\t Record: 0\n",
      "Game: 21\t Score: 0\t Record: 0\n",
      "Game: 22\t Score: 0\t Record: 0\n",
      "Game: 23\t Score: 0\t Record: 0\n",
      "Game: 24\t Score: 0\t Record: 0\n",
      "Game: 25\t Score: 0\t Record: 0\n",
      "Game: 26\t Score: 0\t Record: 0\n",
      "Game: 27\t Score: 0\t Record: 0\n",
      "Game: 28\t Score: 0\t Record: 0\n",
      "Game: 29\t Score: 0\t Record: 0\n",
      "Game: 30\t Score: 0\t Record: 0\n",
      "Game: 31\t Score: 0\t Record: 0\n",
      "Game: 32\t Score: 0\t Record: 0\n",
      "Game: 33\t Score: 10\t Record: 10\n",
      "Game: 34\t Score: 0\t Record: 10\n",
      "Game: 35\t Score: 0\t Record: 10\n",
      "Game: 36\t Score: 0\t Record: 10\n",
      "Game: 37\t Score: 0\t Record: 10\n",
      "Game: 38\t Score: 0\t Record: 10\n",
      "Game: 39\t Score: 0\t Record: 10\n",
      "Game: 40\t Score: 0\t Record: 10\n",
      "Game: 41\t Score: 0\t Record: 10\n",
      "Game: 42\t Score: 0\t Record: 10\n",
      "Game: 43\t Score: 0\t Record: 10\n",
      "Game: 44\t Score: 0\t Record: 10\n",
      "Game: 45\t Score: 0\t Record: 10\n",
      "Game: 46\t Score: 0\t Record: 10\n",
      "Game: 47\t Score: 0\t Record: 10\n",
      "Game: 48\t Score: 0\t Record: 10\n",
      "Game: 49\t Score: 0\t Record: 10\n",
      "Game: 50\t Score: 0\t Record: 10\n",
      "Game: 51\t Score: 10\t Record: 10\n",
      "Game: 52\t Score: 0\t Record: 10\n",
      "Game: 53\t Score: 0\t Record: 10\n",
      "Game: 54\t Score: 0\t Record: 10\n",
      "Game: 55\t Score: 0\t Record: 10\n",
      "Game: 56\t Score: 0\t Record: 10\n",
      "Game: 57\t Score: 0\t Record: 10\n",
      "Game: 58\t Score: 0\t Record: 10\n",
      "Game: 59\t Score: 0\t Record: 10\n",
      "Game: 60\t Score: 0\t Record: 10\n",
      "Game: 61\t Score: 0\t Record: 10\n",
      "Game: 62\t Score: 0\t Record: 10\n",
      "Game: 63\t Score: 0\t Record: 10\n",
      "Game: 64\t Score: 0\t Record: 10\n",
      "Game: 65\t Score: 0\t Record: 10\n",
      "Game: 66\t Score: 0\t Record: 10\n",
      "Game: 67\t Score: 10\t Record: 10\n",
      "Game: 68\t Score: 10\t Record: 10\n",
      "Game: 69\t Score: 0\t Record: 10\n",
      "Game: 70\t Score: 0\t Record: 10\n",
      "Game: 71\t Score: 0\t Record: 10\n",
      "Game: 72\t Score: 0\t Record: 10\n",
      "Game: 73\t Score: 0\t Record: 10\n",
      "Game: 74\t Score: 0\t Record: 10\n",
      "Game: 75\t Score: 10\t Record: 10\n",
      "Game: 76\t Score: 0\t Record: 10\n",
      "Game: 77\t Score: 0\t Record: 10\n",
      "Game: 78\t Score: 0\t Record: 10\n",
      "Game: 79\t Score: 0\t Record: 10\n",
      "Game: 80\t Score: 0\t Record: 10\n",
      "Game: 81\t Score: 0\t Record: 10\n",
      "Game: 82\t Score: 0\t Record: 10\n",
      "Game: 83\t Score: 0\t Record: 10\n",
      "Game: 84\t Score: 0\t Record: 10\n",
      "Game: 85\t Score: 0\t Record: 10\n",
      "Game: 86\t Score: 0\t Record: 10\n",
      "Game: 87\t Score: 0\t Record: 10\n",
      "Game: 88\t Score: 0\t Record: 10\n",
      "Game: 89\t Score: 0\t Record: 10\n",
      "Game: 90\t Score: 0\t Record: 10\n",
      "Game: 91\t Score: 10\t Record: 10\n",
      "Game: 92\t Score: 0\t Record: 10\n",
      "Game: 93\t Score: 0\t Record: 10\n",
      "Game: 94\t Score: 0\t Record: 10\n",
      "Game: 95\t Score: 0\t Record: 10\n",
      "Game: 96\t Score: 0\t Record: 10\n",
      "Game: 97\t Score: 0\t Record: 10\n",
      "Game: 98\t Score: 0\t Record: 10\n",
      "Game: 99\t Score: 0\t Record: 10\n",
      "Game: 100\t Score: 0\t Record: 10\n",
      "Game: 101\t Score: 0\t Record: 10\n",
      "Game: 102\t Score: 0\t Record: 10\n",
      "Game: 103\t Score: 0\t Record: 10\n",
      "Game: 104\t Score: 0\t Record: 10\n",
      "Game: 105\t Score: 0\t Record: 10\n",
      "Game: 106\t Score: 10\t Record: 10\n",
      "Game: 107\t Score: 0\t Record: 10\n",
      "Game: 108\t Score: 0\t Record: 10\n",
      "Game: 109\t Score: 0\t Record: 10\n",
      "Game: 110\t Score: 10\t Record: 10\n",
      "Game: 111\t Score: 0\t Record: 10\n",
      "Game: 112\t Score: 0\t Record: 10\n",
      "Game: 113\t Score: 0\t Record: 10\n",
      "Game: 114\t Score: 10\t Record: 10\n",
      "Game: 115\t Score: 0\t Record: 10\n",
      "Game: 116\t Score: 0\t Record: 10\n",
      "Game: 117\t Score: 10\t Record: 10\n",
      "Game: 118\t Score: 0\t Record: 10\n",
      "Game: 119\t Score: 0\t Record: 10\n",
      "Game: 120\t Score: 0\t Record: 10\n",
      "Game: 121\t Score: 10\t Record: 10\n",
      "Game: 122\t Score: 0\t Record: 10\n",
      "Game: 123\t Score: 0\t Record: 10\n",
      "Game: 124\t Score: 10\t Record: 10\n",
      "Game: 125\t Score: 0\t Record: 10\n",
      "Game: 126\t Score: 0\t Record: 10\n",
      "Game: 127\t Score: 10\t Record: 10\n",
      "Game: 128\t Score: 0\t Record: 10\n",
      "Game: 129\t Score: 10\t Record: 10\n",
      "Game: 130\t Score: 10\t Record: 10\n",
      "Game: 131\t Score: 10\t Record: 10\n",
      "Game: 132\t Score: 20\t Record: 20\n",
      "Game: 133\t Score: 10\t Record: 20\n",
      "Game: 134\t Score: 0\t Record: 20\n",
      "Game: 135\t Score: 10\t Record: 20\n",
      "Game: 136\t Score: 10\t Record: 20\n",
      "Game: 137\t Score: 20\t Record: 20\n",
      "Game: 138\t Score: 10\t Record: 20\n",
      "Game: 139\t Score: 10\t Record: 20\n",
      "Game: 140\t Score: 10\t Record: 20\n",
      "Game: 141\t Score: 10\t Record: 20\n",
      "Game: 142\t Score: 10\t Record: 20\n",
      "Game: 143\t Score: 20\t Record: 20\n",
      "Game: 144\t Score: 0\t Record: 20\n",
      "Game: 145\t Score: 10\t Record: 20\n",
      "Game: 146\t Score: 0\t Record: 20\n",
      "Game: 147\t Score: 0\t Record: 20\n",
      "Game: 148\t Score: 0\t Record: 20\n",
      "Game: 149\t Score: 10\t Record: 20\n",
      "Game: 150\t Score: 10\t Record: 20\n",
      "Game: 151\t Score: 10\t Record: 20\n",
      "Game: 152\t Score: 0\t Record: 20\n",
      "Game: 153\t Score: 10\t Record: 20\n",
      "Game: 154\t Score: 0\t Record: 20\n",
      "Game: 155\t Score: 10\t Record: 20\n",
      "Game: 156\t Score: 10\t Record: 20\n",
      "Game: 157\t Score: 0\t Record: 20\n",
      "Game: 158\t Score: 20\t Record: 20\n",
      "Game: 159\t Score: 0\t Record: 20\n",
      "Game: 160\t Score: 0\t Record: 20\n",
      "Game: 161\t Score: 30\t Record: 30\n",
      "Game: 162\t Score: 0\t Record: 30\n",
      "Game: 163\t Score: 10\t Record: 30\n",
      "Game: 164\t Score: 10\t Record: 30\n",
      "Game: 165\t Score: 0\t Record: 30\n",
      "Game: 166\t Score: 10\t Record: 30\n",
      "Game: 167\t Score: 0\t Record: 30\n"
     ]
    },
    {
     "ename": "NameError",
     "evalue": "name 'quit' is not defined",
     "output_type": "error",
     "traceback": [
      "\u001b[1;31m---------------------------------------------------------------------------\u001b[0m",
      "\u001b[1;31mNameError\u001b[0m                                 Traceback (most recent call last)",
      "\u001b[1;32mc:\\Users\\otto\\OneDrive - Danmarks Tekniske Universitet\\DTU\\Kurser\\02461 Introduktion til intelligente systemer\\Projekt\\snake.ipynb Cell 2\u001b[0m in \u001b[0;36m<module>\u001b[1;34m\u001b[0m\n\u001b[1;32m----> <a href='vscode-notebook-cell:/c%3A/Users/otto/OneDrive%20-%20Danmarks%20Tekniske%20Universitet/DTU/Kurser/02461%20Introduktion%20til%20intelligente%20systemer/Projekt/snake.ipynb#W1sZmlsZQ%3D%3D?line=0'>1</a>\u001b[0m train()\n",
      "File \u001b[1;32mc:\\Users\\otto\\OneDrive - Danmarks Tekniske Universitet\\DTU\\Kurser\\02461 Introduktion til intelligente systemer\\Projekt\\Agent.py:120\u001b[0m, in \u001b[0;36mtrain\u001b[1;34m()\u001b[0m\n\u001b[0;32m    117\u001b[0m final_move \u001b[39m=\u001b[39m agent\u001b[39m.\u001b[39mget_action(state_old)\n\u001b[0;32m    119\u001b[0m \u001b[39m# perform move and get new state\u001b[39;00m\n\u001b[1;32m--> 120\u001b[0m reward, done, score \u001b[39m=\u001b[39m game\u001b[39m.\u001b[39;49mstep(action\u001b[39m=\u001b[39;49mfinal_move)\n\u001b[0;32m    121\u001b[0m \u001b[39m# reward, done, score = game.play_step(action=final_move)\u001b[39;00m\n\u001b[0;32m    122\u001b[0m \u001b[39m# print(final_move)\u001b[39;00m\n\u001b[0;32m    123\u001b[0m state_new \u001b[39m=\u001b[39m agent\u001b[39m.\u001b[39mget_state(game)\n",
      "File \u001b[1;32mc:\\Users\\otto\\OneDrive - Danmarks Tekniske Universitet\\DTU\\Kurser\\02461 Introduktion til intelligente systemer\\Projekt\\SnakeGameClass.py:106\u001b[0m, in \u001b[0;36mSnakeGame.step\u001b[1;34m(self, action, direction)\u001b[0m\n\u001b[0;32m    104\u001b[0m \u001b[39mif\u001b[39;00m event\u001b[39m.\u001b[39mtype \u001b[39m==\u001b[39m pygame\u001b[39m.\u001b[39mQUIT:\n\u001b[0;32m    105\u001b[0m     pygame\u001b[39m.\u001b[39mquit()\n\u001b[1;32m--> 106\u001b[0m     quit()\n\u001b[0;32m    107\u001b[0m \u001b[39mif\u001b[39;00m event\u001b[39m.\u001b[39mtype \u001b[39m==\u001b[39m pygame\u001b[39m.\u001b[39mKEYDOWN:\n\u001b[0;32m    108\u001b[0m     \u001b[39mif\u001b[39;00m event\u001b[39m.\u001b[39mkey \u001b[39m==\u001b[39m pygame\u001b[39m.\u001b[39mK_LEFT:\n",
      "\u001b[1;31mNameError\u001b[0m: name 'quit' is not defined"
     ]
    }
   ],
   "source": [
    "train()"
   ]
  },
  {
   "cell_type": "code",
   "execution_count": null,
   "metadata": {},
   "outputs": [
    {
     "name": "stdout",
     "output_type": "stream",
     "text": [
      "test\n",
      "test 2\n"
     ]
    },
    {
     "data": {
      "text/plain": [
       "['__class__',\n",
       " '__delattr__',\n",
       " '__dict__',\n",
       " '__dir__',\n",
       " '__doc__',\n",
       " '__eq__',\n",
       " '__format__',\n",
       " '__ge__',\n",
       " '__getattribute__',\n",
       " '__gt__',\n",
       " '__hash__',\n",
       " '__init__',\n",
       " '__init_subclass__',\n",
       " '__le__',\n",
       " '__lt__',\n",
       " '__module__',\n",
       " '__ne__',\n",
       " '__new__',\n",
       " '__reduce__',\n",
       " '__reduce_ex__',\n",
       " '__repr__',\n",
       " '__setattr__',\n",
       " '__sizeof__',\n",
       " '__str__',\n",
       " '__subclasshook__',\n",
       " '__weakref__',\n",
       " 'change_to',\n",
       " 'clock',\n",
       " 'direction',\n",
       " 'display',\n",
       " 'food',\n",
       " 'frame_iteration',\n",
       " 'h',\n",
       " 'head',\n",
       " 'is_collision',\n",
       " 'move',\n",
       " 'pause',\n",
       " 'place_food',\n",
       " 'reset',\n",
       " 'runai',\n",
       " 'score',\n",
       " 'slow',\n",
       " 'snake',\n",
       " 'step',\n",
       " 'update_ui',\n",
       " 'w']"
      ]
     },
     "execution_count": 4,
     "metadata": {},
     "output_type": "execute_result"
    }
   ],
   "source": [
    "game = SnakeGame()\n",
    "# while True:\n",
    "#     reward, game_over, score = game.step()\n",
    "#     if game_over:\n",
    "#         # game.reset()\n",
    "#         pass\n",
    "# pygame.quit()\n"
   ]
  },
  {
   "cell_type": "code",
   "execution_count": null,
   "metadata": {},
   "outputs": [
    {
     "data": {
      "text/plain": [
       "[Point(x=340.0, y=240.0), Point(x=320.0, y=240.0), Point(x=300.0, y=240.0)]"
      ]
     },
     "execution_count": 5,
     "metadata": {},
     "output_type": "execute_result"
    }
   ],
   "source": [
    "game.step()\n",
    "game.snake\n",
    "\n"
   ]
  },
  {
   "cell_type": "code",
   "execution_count": null,
   "metadata": {},
   "outputs": [
    {
     "data": {
      "text/plain": [
       "16"
      ]
     },
     "execution_count": 6,
     "metadata": {},
     "output_type": "execute_result"
    },
    {
     "ename": "",
     "evalue": "",
     "output_type": "error",
     "traceback": [
      "\u001b[1;31mThe Kernel crashed while executing code in the the current cell or a previous cell. Please review the code in the cell(s) to identify a possible cause of the failure. Click <a href='https://aka.ms/vscodeJupyterKernelCrash'>here</a> for more info. View Jupyter <a href='command:jupyter.viewOutput'>log</a> for further details."
     ]
    }
   ],
   "source": [
    "320 // 20"
   ]
  }
 ],
 "metadata": {
  "kernelspec": {
   "display_name": "Python 3",
   "language": "python",
   "name": "python3"
  },
  "language_info": {
   "codemirror_mode": {
    "name": "ipython",
    "version": 3
   },
   "file_extension": ".py",
   "mimetype": "text/x-python",
   "name": "python",
   "nbconvert_exporter": "python",
   "pygments_lexer": "ipython3",
   "version": "3.10.6 (tags/v3.10.6:9c7b4bd, Aug  1 2022, 21:53:49) [MSC v.1932 64 bit (AMD64)]"
  },
  "orig_nbformat": 4,
  "vscode": {
   "interpreter": {
    "hash": "8203f0e0483fa59486bdc2d9f81d4312248cbb7c7b7650fcc48de869a98be164"
   }
  }
 },
 "nbformat": 4,
 "nbformat_minor": 2
}
