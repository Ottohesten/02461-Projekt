{
 "cells": [
  {
   "cell_type": "code",
   "execution_count": 1,
   "metadata": {},
   "outputs": [
    {
     "name": "stdout",
     "output_type": "stream",
     "text": [
      "pygame 2.1.2 (SDL 2.0.18, Python 3.10.6)\n",
      "Hello from the pygame community. https://www.pygame.org/contribute.html\n"
     ]
    }
   ],
   "source": [
    "import numpy as np\n",
    "from HelperClasses import Direction, Point, Board, Snake\n",
    "from SnakeGameClass import SnakeGame"
   ]
  },
  {
   "cell_type": "code",
   "execution_count": 2,
   "metadata": {},
   "outputs": [
    {
     "name": "stdout",
     "output_type": "stream",
     "text": [
      "[Point(x=5, y=5), Point(x=4, y=5), Point(x=3, y=5)]\n"
     ]
    }
   ],
   "source": [
    "game = SnakeGame()\n",
    "snake = Snake((10,10))\n",
    "print(snake.body)\n"
   ]
  },
  {
   "cell_type": "code",
   "execution_count": 3,
   "metadata": {},
   "outputs": [
    {
     "name": "stdout",
     "output_type": "stream",
     "text": [
      "[Point(x=5, y=5), Point(x=4, y=5), Point(x=3, y=5)]\n"
     ]
    }
   ],
   "source": [
    "# snake.move(Direction.RIGHT)\n",
    "# snake.move(Direction.RIGHT)\n",
    "print(snake.body)"
   ]
  },
  {
   "cell_type": "code",
   "execution_count": 4,
   "metadata": {},
   "outputs": [
    {
     "name": "stdout",
     "output_type": "stream",
     "text": [
      "[Point(x=5, y=4), Point(x=5, y=5), Point(x=4, y=5)]\n",
      "[Point(x=6, y=4), Point(x=5, y=4), Point(x=5, y=5)]\n",
      "[Point(x=6, y=5), Point(x=6, y=4), Point(x=5, y=4)]\n",
      "[Point(x=5, y=5), Point(x=6, y=5), Point(x=6, y=4)]\n"
     ]
    }
   ],
   "source": [
    "snake.move(Direction.UP)\n",
    "print(snake.body)\n",
    "snake.move(Direction.RIGHT)\n",
    "print(snake.body)\n",
    "snake.move(Direction.DOWN)\n",
    "print(snake.body)\n",
    "snake.move(Direction.LEFT)\n",
    "print(snake.body)\n"
   ]
  },
  {
   "cell_type": "code",
   "execution_count": 5,
   "metadata": {},
   "outputs": [
    {
     "name": "stdout",
     "output_type": "stream",
     "text": [
      "[Point(x=5, y=4), Point(x=5, y=5), Point(x=6, y=5)]\n"
     ]
    }
   ],
   "source": [
    "snake.move(Direction.UP)\n",
    "print(snake.body)"
   ]
  },
  {
   "cell_type": "code",
   "execution_count": 6,
   "metadata": {},
   "outputs": [],
   "source": [
    "board = Board(10,10,1,game.snake.body)"
   ]
  },
  {
   "cell_type": "code",
   "execution_count": 7,
   "metadata": {},
   "outputs": [
    {
     "data": {
      "text/plain": [
       "{<Direction.UP: 3>: 97, <Direction.RIGHT: 1>: 97, <Direction.LEFT: 2>: 0}"
      ]
     },
     "execution_count": 7,
     "metadata": {},
     "output_type": "execute_result"
    }
   ],
   "source": [
    "board.get_available_space_3directions(Direction.UP)"
   ]
  },
  {
   "cell_type": "code",
   "execution_count": 8,
   "metadata": {},
   "outputs": [
    {
     "data": {
      "text/plain": [
       "{<Direction.RIGHT: 1>: 4, <Direction.DOWN: 4>: 4, <Direction.UP: 3>: 2}"
      ]
     },
     "execution_count": 8,
     "metadata": {},
     "output_type": "execute_result"
    }
   ],
   "source": [
    "food = Point(x=5, y = 2)\n",
    "board.manhattan_distance_3directions(Direction.RIGHT, food)"
   ]
  },
  {
   "cell_type": "code",
   "execution_count": 9,
   "metadata": {},
   "outputs": [
    {
     "data": {
      "text/plain": [
       "   0  1  2  3  4  5  6  7  8  9\n",
       "0  0  0  0  0  0  0  0  0  0  0\n",
       "1  0  0  0  0  0  0  0  0  0  0\n",
       "2  0  0  0  0  0  0  0  0  0  0\n",
       "3  0  0  0  0  0  0  0  0  0  0\n",
       "4  0  0  0  0  0  0  0  0  0  0\n",
       "5  0  0  0  1  1  1  0  0  0  0\n",
       "6  0  0  0  0  0  0  0  0  0  0\n",
       "7  0  0  0  0  0  0  0  0  0  0\n",
       "8  0  0  0  0  0  0  0  0  0  0\n",
       "9  0  0  0  0  0  0  0  0  0  0"
      ]
     },
     "execution_count": 9,
     "metadata": {},
     "output_type": "execute_result"
    },
    {
     "ename": "",
     "evalue": "",
     "output_type": "error",
     "traceback": [
      "\u001b[1;31mThe Kernel crashed while executing code in the the current cell or a previous cell. Please review the code in the cell(s) to identify a possible cause of the failure. Click <a href='https://aka.ms/vscodeJupyterKernelCrash'>here</a> for more info. View Jupyter <a href='command:jupyter.viewOutput'>log</a> for further details."
     ]
    }
   ],
   "source": [
    "board"
   ]
  }
 ],
 "metadata": {
  "kernelspec": {
   "display_name": "Python 3",
   "language": "python",
   "name": "python3"
  },
  "language_info": {
   "codemirror_mode": {
    "name": "ipython",
    "version": 3
   },
   "file_extension": ".py",
   "mimetype": "text/x-python",
   "name": "python",
   "nbconvert_exporter": "python",
   "pygments_lexer": "ipython3",
   "version": "3.10.6"
  },
  "orig_nbformat": 4,
  "vscode": {
   "interpreter": {
    "hash": "8203f0e0483fa59486bdc2d9f81d4312248cbb7c7b7650fcc48de869a98be164"
   }
  }
 },
 "nbformat": 4,
 "nbformat_minor": 2
}
